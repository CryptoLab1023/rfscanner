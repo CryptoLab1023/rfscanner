{
 "cells": [
  {
   "cell_type": "code",
   "execution_count": 1,
   "metadata": {},
   "outputs": [],
   "source": [
    "from watson_developer_cloud import SpeechToTextV1\n",
    "from os.path import join, dirname\n",
    "import json\n",
    "from IPython.core.display import display, HTML"
   ]
  },
  {
   "cell_type": "code",
   "execution_count": 2,
   "metadata": {},
   "outputs": [
    {
     "data": {
      "text/html": [
       "<style>.container { width:100% !important; }</style>"
      ],
      "text/plain": [
       "<IPython.core.display.HTML object>"
      ]
     },
     "metadata": {},
     "output_type": "display_data"
    }
   ],
   "source": [
    "display(HTML(\"<style>.container { width:100% !important; }</style>\"))"
   ]
  },
  {
   "cell_type": "code",
   "execution_count": 3,
   "metadata": {},
   "outputs": [
    {
     "ename": "IndentationError",
     "evalue": "unexpected indent (<ipython-input-3-e153aa4ccc7a>, line 16)",
     "output_type": "error",
     "traceback": [
      "\u001b[0;36m  File \u001b[0;32m\"<ipython-input-3-e153aa4ccc7a>\"\u001b[0;36m, line \u001b[0;32m16\u001b[0m\n\u001b[0;31m    print(json.dumps(speech_recognition_results, indent=2))\u001b[0m\n\u001b[0m    ^\u001b[0m\n\u001b[0;31mIndentationError\u001b[0m\u001b[0;31m:\u001b[0m unexpected indent\n"
     ]
    }
   ],
   "source": [
    "# def isVoice(audioFile):\n",
    "\n",
    "#     speech_to_text = SpeechToTextV1(\n",
    "#         username=\"3592045c-7434-4202-853a-73599dd9ba78\",\n",
    "#         password=\"xjkcXRtCfhhT\"\n",
    "#         )\n",
    "\n",
    "#     speech_recognition_results = speech_to_text.recognize(\n",
    "#         audio=audioFile,\n",
    "#         content_type='audio/wav',\n",
    "#         timestamps=True,\n",
    "#         word_alternatives_threshold=0.9,\n",
    "#         keywords=['colorado', 'tornado', 'tornadoes'],\n",
    "#         keywords_threshold=0.5).get_result()\n",
    "\n",
    "#     print(json.dumps(speech_recognition_results, indent=2))\n"
   ]
  },
  {
   "cell_type": "code",
   "execution_count": null,
   "metadata": {},
   "outputs": [],
   "source": [
    "# %ls src/client/audio.wav"
   ]
  },
  {
   "cell_type": "code",
   "execution_count": null,
   "metadata": {
    "scrolled": false
   },
   "outputs": [],
   "source": [
    "# isVoice(\"src/client/audio.wav\")"
   ]
  },
  {
   "cell_type": "code",
   "execution_count": null,
   "metadata": {},
   "outputs": [],
   "source": [
    "IBM_USERNAME = \"3592045c-7434-4202-853a-73599dd9ba78\"\n",
    "IBM_PASSWORD = \"xjkcXRtCfhhT\"\n",
    "IBM_URL = \"https://stream.watsonplatform.net/speech-to-text/api\""
   ]
  },
  {
   "cell_type": "code",
   "execution_count": null,
   "metadata": {},
   "outputs": [],
   "source": [
    "# from watson_developer_cloud import SpeechToTextV1\n",
    "\n",
    "# speech_to_text = SpeechToTextV1(\n",
    "#     username=IBM_USERNAME,\n",
    "#     password=IBM_PASSWORD,\n",
    "#     url=IBM_URL\n",
    "# )"
   ]
  },
  {
   "cell_type": "code",
   "execution_count": null,
   "metadata": {},
   "outputs": [],
   "source": [
    "# speech_to_text"
   ]
  },
  {
   "cell_type": "code",
   "execution_count": null,
   "metadata": {},
   "outputs": [],
   "source": [
    "from watson_developer_cloud import SpeechToTextV1\n",
    "from watson_developer_cloud.websocket import RecognizeCallback, AudioSource\n",
    "from os.path import join, dirname\n",
    "import json\n",
    "\n",
    "speech_to_text = SpeechToTextV1(\n",
    "    username=IBM_USERNAME,\n",
    "    password=IBM_PASSWORD)\n",
    "\n",
    "class MyRecognizeCallback(RecognizeCallback):\n",
    "    def __init__(self):\n",
    "        RecognizeCallback.__init__(self)\n",
    "\n",
    "    def on_data(self, data):\n",
    "        print(json.dumps(data, indent=2))\n",
    "\n",
    "    def on_error(self, error):\n",
    "        print('Error received: {}'.format(error))\n",
    "\n",
    "    def on_inactivity_timeout(self, error):\n",
    "        print('Inactivity timeout: {}'.format(error))\n",
    "\n",
    "myRecognizeCallback = MyRecognizeCallback()\n",
    "\n",
    "with open('/Users/bryn/projects/bousai/rfscanner/src/client/audio.wav','rb') as audio_file:\n",
    "    audio_source = AudioSource(audio_file)\n",
    "    speech_to_text.recognize_using_websocket(\n",
    "        audio=audio_source,\n",
    "        content_type='audio/flac',\n",
    "        recognize_callback=myRecognizeCallback,\n",
    "        model='en-US_BroadbandModel',\n",
    "        keywords=['colorado', 'tornado', 'tornadoes'],\n",
    "        keywords_threshold=0.5,\n",
    "        max_alternatives=3)"
   ]
  },
  {
   "cell_type": "code",
   "execution_count": null,
   "metadata": {},
   "outputs": [],
   "source": []
  },
  {
   "cell_type": "code",
   "execution_count": null,
   "metadata": {},
   "outputs": [],
   "source": []
  },
  {
   "cell_type": "code",
   "execution_count": null,
   "metadata": {},
   "outputs": [],
   "source": []
  }
 ],
 "metadata": {
  "kernelspec": {
   "display_name": "Python 3",
   "language": "python",
   "name": "python3"
  },
  "language_info": {
   "codemirror_mode": {
    "name": "ipython",
    "version": 3
   },
   "file_extension": ".py",
   "mimetype": "text/x-python",
   "name": "python",
   "nbconvert_exporter": "python",
   "pygments_lexer": "ipython3",
   "version": "3.6.4"
  },
  "varInspector": {
   "cols": {
    "lenName": 16,
    "lenType": 16,
    "lenVar": 40
   },
   "kernels_config": {
    "python": {
     "delete_cmd_postfix": "",
     "delete_cmd_prefix": "del ",
     "library": "var_list.py",
     "varRefreshCmd": "print(var_dic_list())"
    },
    "r": {
     "delete_cmd_postfix": ") ",
     "delete_cmd_prefix": "rm(",
     "library": "var_list.r",
     "varRefreshCmd": "cat(var_dic_list()) "
    }
   },
   "types_to_exclude": [
    "module",
    "function",
    "builtin_function_or_method",
    "instance",
    "_Feature"
   ],
   "window_display": false
  }
 },
 "nbformat": 4,
 "nbformat_minor": 2
}
